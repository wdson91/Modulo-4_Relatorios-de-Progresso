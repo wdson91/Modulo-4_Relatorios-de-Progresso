{
  "nbformat": 4,
  "nbformat_minor": 0,
  "metadata": {
    "colab": {
      "provenance": [],
      "authorship_tag": "ABX9TyMCZy4SypI1O5wNOY6lN9LC",
      "include_colab_link": true
    },
    "kernelspec": {
      "name": "python3",
      "display_name": "Python 3"
    },
    "language_info": {
      "name": "python"
    }
  },
  "cells": [
    {
      "cell_type": "markdown",
      "metadata": {
        "id": "view-in-github",
        "colab_type": "text"
      },
      "source": [
        "<a href=\"https://colab.research.google.com/github/wdson91/Modulo-4_Relatorios-de-Progresso/blob/main/Projeto_Individual.ipynb\" target=\"_parent\"><img src=\"https://colab.research.google.com/assets/colab-badge.svg\" alt=\"Open In Colab\"/></a>"
      ]
    },
    {
      "cell_type": "markdown",
      "source": [
        "Importação das Bibliotecas"
      ],
      "metadata": {
        "id": "FoIR_vGK1jen"
      }
    },
    {
      "cell_type": "code",
      "source": [
        "import pandas as pd\n",
        "import numpy as np\n",
        "import matplotlib.pyplot as plt\n",
        "import seaborn as sns\n"
      ],
      "metadata": {
        "id": "YrXYFAoj0etc"
      },
      "execution_count": 9,
      "outputs": []
    },
    {
      "cell_type": "markdown",
      "source": [
        "Dataframe"
      ],
      "metadata": {
        "id": "Q-8uj5Vg1c_8"
      }
    },
    {
      "cell_type": "code",
      "source": [
        "data = {\n",
        "    'Dia': ['Segunda', 'Terça', 'Quarta', 'Quinta', 'Sexta', 'Sábado', 'Domingo'],\n",
        "    'Horas Trabalhadas': [6, 7, 8, 6, 7, 5, 4],\n",
        "    'Bugs Corrigidos': [3, 2, 1, 4, 3, 2, 1],\n",
        "    'Tarefas Concluídas': [5, 4, 6, 4, 5, 3, 2]\n",
        "}\n",
        "\n",
        "df = pd.DataFrame(data)\n"
      ],
      "metadata": {
        "id": "vqyXZx7B1C5V"
      },
      "execution_count": 10,
      "outputs": []
    },
    {
      "cell_type": "markdown",
      "source": [],
      "metadata": {
        "id": "GR5aYHcq1svx"
      }
    },
    {
      "cell_type": "markdown",
      "source": [
        "Calcular as métricas solicitadas"
      ],
      "metadata": {
        "id": "AYJ0lTsF1vBi"
      }
    },
    {
      "cell_type": "code",
      "source": [
        "# Total de Horas Trabalhadas\n",
        "total_horas_trabalhadas = df['Horas Trabalhadas'].sum()\n",
        "\n",
        "# Média Diária de Horas Trabalhadas\n",
        "media_horas_trabalhadas_diarias = df['Horas Trabalhadas'].mean()\n",
        "\n",
        "# Total de Bugs Corrigidos\n",
        "total_bugs_corrigidos = df['Bugs Corrigidos'].sum()\n",
        "\n",
        "# Média Diária de Bugs Corrigidos\n",
        "media_bugs_corrigidos_diarios = df['Bugs Corrigidos'].mean()\n",
        "\n",
        "# Total de Tarefas Concluídas\n",
        "total_tarefas_concluidas = df['Tarefas Concluídas'].sum()\n",
        "\n",
        "# Média Diária de Tarefas Concluídas\n",
        "media_tarefas_concluidas_diarias = df['Tarefas Concluídas'].mean()\n",
        "\n",
        "# Produtividade Diária (Tarefas Concluídas por Hora)\n",
        "df['Produtividade Diária'] = df['Tarefas Concluídas'] / df['Horas Trabalhadas']\n"
      ],
      "metadata": {
        "id": "TLWLm3CO1FHZ"
      },
      "execution_count": 11,
      "outputs": []
    },
    {
      "cell_type": "code",
      "source": [
        "relatorio = f\"\"\"\n",
        "# Relatório de Progresso Diário\n",
        "\n",
        "## Métricas\n",
        "\n",
        "- Total de Horas Trabalhadas: {total_horas_trabalhadas}\n",
        "- Média Diária de Horas Trabalhadas: {media_horas_trabalhadas_diarias:.2f}\n",
        "- Total de Bugs Corrigidos: {total_bugs_corrigidos}\n",
        "- Média Diária de Bugs Corrigidos: {media_bugs_corrigidos_diarios:.2f}\n",
        "- Total de Tarefas Concluídas: {total_tarefas_concluidas}\n",
        "- Média Diária de Tarefas Concluídas: {media_tarefas_concluidas_diarias:.2f}\n",
        "\n",
        "## Produtividade Diária (Tarefas Concluídas por Hora)\n",
        "\n",
        "{df[['Dia', 'Produtividade Diária']].to_markdown(index=False)}\n",
        "\n",
        "## Gráfico - Total de Horas Trabalhadas por Dia\n",
        "\n",
        "{sns.barplot(x='Dia', y='Horas Trabalhadas', data=df)}\n",
        "plt.title('Total de Horas Trabalhadas por Dia')\n",
        "plt.xlabel('Dia')\n",
        "plt.ylabel('Total de Horas Trabalhadas')\n",
        "plt.show()\n",
        "\n",
        "## Gráfico - Tarefas Concluídas por Dia\n",
        "\n",
        "{sns.lineplot(x='Dia', y='Tarefas Concluídas', data=df)}\n",
        "plt.title('Tarefas Concluídas por Dia')\n",
        "plt.xlabel('Dia')\n",
        "plt.ylabel('Tarefas Concluídas')\n",
        "plt.show()\n",
        "\"\"\"\n",
        "\n",
        "# Exibir o relatório diretamente no Colab\n",
        "print(relatorio)\n"
      ],
      "metadata": {
        "colab": {
          "base_uri": "https://localhost:8080/",
          "height": 1000
        },
        "id": "DsUC1ylG1HXm",
        "outputId": "bd0921be-ca61-4757-c417-cffd274f570b"
      },
      "execution_count": 15,
      "outputs": [
        {
          "output_type": "stream",
          "name": "stdout",
          "text": [
            "\n",
            "# Relatório de Progresso Diário\n",
            "\n",
            "## Métricas\n",
            "\n",
            "- Total de Horas Trabalhadas: 43\n",
            "- Média Diária de Horas Trabalhadas: 6.14\n",
            "- Total de Bugs Corrigidos: 16\n",
            "- Média Diária de Bugs Corrigidos: 2.29\n",
            "- Total de Tarefas Concluídas: 29\n",
            "- Média Diária de Tarefas Concluídas: 4.14\n",
            "\n",
            "## Produtividade Diária (Tarefas Concluídas por Hora)\n",
            "\n",
            "| Dia     |   Produtividade Diária |\n",
            "|:--------|-----------------------:|\n",
            "| Segunda |               0.833333 |\n",
            "| Terça   |               0.571429 |\n",
            "| Quarta  |               0.75     |\n",
            "| Quinta  |               0.666667 |\n",
            "| Sexta   |               0.714286 |\n",
            "| Sábado  |               0.6      |\n",
            "| Domingo |               0.5      |\n",
            "\n",
            "## Gráfico - Total de Horas Trabalhadas por Dia\n",
            "\n",
            "Axes(0.125,0.11;0.775x0.77)\n",
            "plt.title('Total de Horas Trabalhadas por Dia')\n",
            "plt.xlabel('Dia')\n",
            "plt.ylabel('Total de Horas Trabalhadas')\n",
            "plt.show()\n",
            "\n",
            "## Gráfico - Tarefas Concluídas por Dia\n",
            "\n",
            "Axes(0.125,0.11;0.775x0.77)\n",
            "plt.title('Tarefas Concluídas por Dia')\n",
            "plt.xlabel('Dia')\n",
            "plt.ylabel('Tarefas Concluídas')\n",
            "plt.show()\n",
            "\n"
          ]
        },
        {
          "output_type": "display_data",
          "data": {
            "text/plain": [
              "<Figure size 640x480 with 1 Axes>"
            ],
            "image/png": "[encoded data removed]"
          },
          "metadata": {}
        }
      ]
    },
    {
      "cell_type": "markdown",
      "source": [
        "Gráfico - Total de Bugs Corrigidos por Dia"
      ],
      "metadata": {
        "id": "wXqJVCqx13fR"
      }
    },
    {
      "cell_type": "code",
      "source": [
        "plt.figure(figsize=(10, 6))\n",
        "sns.barplot(x='Dia', y='Bugs Corrigidos', data=df)\n",
        "plt.title('Total de Bugs Corrigidos por Dia')\n",
        "plt.xlabel('Dia')\n",
        "plt.ylabel('Total de Bugs Corrigidos')\n",
        "plt.show()\n"
      ],
      "metadata": {
        "colab": {
          "base_uri": "https://localhost:8080/",
          "height": 564
        },
        "id": "qvzmY8qk16JR",
        "outputId": "72c1513a-89ef-4944-8d01-97e4a7a39183"
      },
      "execution_count": 14,
      "outputs": [
        {
          "output_type": "display_data",
          "data": {
            "text/plain": [
              "<Figure size 1000x600 with 1 Axes>"
            ],
            "image/png": "[encoded data removed]"
          },
          "metadata": {}
        }
      ]
    },
    {
      "cell_type": "markdown",
      "source": [
        "Gráfico - Total de Tarefas Concluídas por Dia"
      ],
      "metadata": {
        "id": "dydXoltv18sc"
      }
    },
    {
      "cell_type": "code",
      "source": [
        "plt.figure(figsize=(10, 6))\n",
        "sns.barplot(x='Dia', y='Tarefas Concluídas', data=df)\n",
        "plt.title('Total de Tarefas Concluídas por Dia')\n",
        "plt.xlabel('Dia')\n",
        "plt.ylabel('Total de Tarefas Concluídas')\n",
        "plt.show()\n"
      ],
      "metadata": {
        "id": "AsYb3oQZ19wd"
      },
      "execution_count": null,
      "outputs": []
    },
    {
      "cell_type": "markdown",
      "source": [
        "Gráfico - Média Diária de Horas Trabalhadas"
      ],
      "metadata": {
        "id": "_Iw9hMzZ2B4w"
      }
    },
    {
      "cell_type": "code",
      "source": [
        "plt.figure(figsize=(6, 4))\n",
        "sns.barplot(x=['Média'], y=[media_horas_trabalhadas_diarias])\n",
        "plt.title('Média Diária de Horas Trabalhadas')\n",
        "plt.ylabel('Horas')\n",
        "plt.show()\n"
      ],
      "metadata": {
        "id": "9Zj0gdqs2CiX"
      },
      "execution_count": null,
      "outputs": []
    },
    {
      "cell_type": "markdown",
      "source": [
        "Gráfico - Média Diária de Bugs Corrigidos"
      ],
      "metadata": {
        "id": "eLMm_pgU2Ew_"
      }
    },
    {
      "cell_type": "code",
      "source": [
        "plt.figure(figsize=(6, 4))\n",
        "sns.barplot(x=['Média'], y=[media_bugs_corrigidos_diarios])\n",
        "plt.title('Média Diária de Bugs Corrigidos')\n",
        "plt.ylabel('Bugs Corrigidos')\n",
        "plt.show()\n"
      ],
      "metadata": {
        "id": "bKFao4bn2FUq"
      },
      "execution_count": null,
      "outputs": []
    },
    {
      "cell_type": "markdown",
      "source": [
        "Gráfico - Média Diária de Tarefas Concluídas"
      ],
      "metadata": {
        "id": "7GFHBy_B2I80"
      }
    },
    {
      "cell_type": "code",
      "source": [
        "plt.figure(figsize=(6, 4))\n",
        "sns.barplot(x=['Média'], y=[media_tarefas_concluidas_diarias])\n",
        "plt.title('Média Diária de Tarefas Concluídas')\n",
        "plt.ylabel('Tarefas Concluídas')\n",
        "plt.show()\n"
      ],
      "metadata": {
        "id": "cYWScK922JjX"
      },
      "execution_count": null,
      "outputs": []
    },
    {
      "cell_type": "markdown",
      "source": [
        "Gráfico - Produtividade Diária (Tarefas Concluídas por Hora)"
      ],
      "metadata": {
        "id": "Jl19Xhff2NsZ"
      }
    },
    {
      "cell_type": "code",
      "source": [
        "plt.figure(figsize=(10, 6))\n",
        "sns.barplot(x='Dia', y='Produtividade Diária', data=df)\n",
        "plt.title('Produtividade Diária (Tarefas Concluídas por Hora)')\n",
        "plt.xlabel('Dia')\n",
        "plt.ylabel('Tarefas Concluídas por Hora')\n",
        "plt.show()\n"
      ],
      "metadata": {
        "id": "X77nUn4S2OQH"
      },
      "execution_count": null,
      "outputs": []
    }
  ]
}